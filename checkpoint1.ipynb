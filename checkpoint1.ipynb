{
  "cells": [
    {
      "cell_type": "markdown",
      "metadata": {
        "id": "AcAHTP-5WvHK"
      },
      "source": [
        "# Checkpoint 1"
      ]
    },
    {
      "cell_type": "markdown",
      "metadata": {
        "id": "u5sCH3I0WvHL"
      },
      "source": [
        "Reminder: \n",
        "\n",
        "- You are being evaluated for compeletion and effort in this checkpoint. \n",
        "- Avoid manual labor / hard coding as much as possible, everything we've taught you so far are meant to simplify and automate your process."
      ]
    },
    {
      "cell_type": "markdown",
      "metadata": {
        "id": "u0dP8nBxWvHM"
      },
      "source": [
        "We will be working with the same `states_edu.csv` that you should already be familiar with from the tutorial.\n",
        "\n",
        "We investigated Grade 8 reading score in the tutorial. For this checkpoint, you are asked to investigate another test. Here's an overview:\n",
        "\n",
        "* Choose a specific response variable to focus on\n",
        ">Grade 4 Math, Grade 4 Reading, Grade 8 Math\n",
        "* Pick or create features to use\n",
        ">Will all the features be useful in predicting test score? Are some more important than others? Should you standardize, bin, or scale the data?\n",
        "* Explore the data as it relates to that test\n",
        ">Create at least 2 visualizations (graphs), each with a caption describing the graph and what it tells us about the data\n",
        "* Create training and testing data\n",
        ">Do you want to train on all the data? Only data from the last 10 years? Only Michigan data?\n",
        "* Train a ML model to predict outcome \n",
        ">Define what you want to predict, and pick a model in sklearn to use (see sklearn <a href=\"https://scikit-learn.org/stable/modules/linear_model.html\">regressors</a>.\n",
        "* Summarize your findings\n",
        ">Write a 1 paragraph summary of what you did and make a recommendation about if and how student performance can be predicted\n",
        "\n",
        "Include comments throughout your code! Every cleanup and preprocessing task should be documented.\n",
        "\n",
        "Of course, if you're finding this assignment interesting (and we really hope you do!), you are welcome to do more than the requirements! For example, you may want to see if expenditure affects 4th graders more than 8th graders. Maybe you want to look into the extended version of this dataset and see how factors like sex and race are involved. You can include all your work in this notebook when you turn it in -- just always make sure you explain what you did and interpret your results. Good luck!"
      ]
    },
    {
      "cell_type": "markdown",
      "metadata": {
        "id": "kALTJ1PmWvHM"
      },
      "source": [
        "<h2> Data Cleanup </h2>\n",
        "\n",
        "Import `numpy`, `pandas`, and `matplotlib`.\n",
        "\n",
        "(Feel free to import other libraries!)"
      ]
    },
    {
      "cell_type": "code",
      "execution_count": 2,
      "metadata": {
        "id": "5uFokFqjWvHN"
      },
      "outputs": [],
      "source": [
        "import pandas as pd\n",
        "import numpy as np\n",
        "import matplotlib.pyplot as plt"
      ]
    },
    {
      "cell_type": "markdown",
      "metadata": {
        "id": "c3AXmpsxWvHN"
      },
      "source": [
        "Load in the \"states_edu.csv\" dataset and take a look at the head of the data"
      ]
    },
    {
      "cell_type": "code",
      "execution_count": 5,
      "metadata": {
        "id": "oYU2jDoyWvHN",
        "colab": {
          "base_uri": "https://localhost:8080/",
          "height": 297
        },
        "outputId": "5dd35340-86b7-4186-e347-9897952ba635"
      },
      "outputs": [
        {
          "output_type": "execute_result",
          "data": {
            "text/plain": [
              "       PRIMARY_KEY       STATE  YEAR  ENROLL  TOTAL_REVENUE  FEDERAL_REVENUE  \\\n",
              "0     1992_ALABAMA     ALABAMA  1992     NaN      2678885.0         304177.0   \n",
              "1      1992_ALASKA      ALASKA  1992     NaN      1049591.0         106780.0   \n",
              "2     1992_ARIZONA     ARIZONA  1992     NaN      3258079.0         297888.0   \n",
              "3    1992_ARKANSAS    ARKANSAS  1992     NaN      1711959.0         178571.0   \n",
              "4  1992_CALIFORNIA  CALIFORNIA  1992     NaN     26260025.0        2072470.0   \n",
              "\n",
              "   STATE_REVENUE  LOCAL_REVENUE  TOTAL_EXPENDITURE  INSTRUCTION_EXPENDITURE  \\\n",
              "0      1659028.0       715680.0          2653798.0                1481703.0   \n",
              "1       720711.0       222100.0           972488.0                 498362.0   \n",
              "2      1369815.0      1590376.0          3401580.0                1435908.0   \n",
              "3       958785.0       574603.0          1743022.0                 964323.0   \n",
              "4     16546514.0      7641041.0         27138832.0               14358922.0   \n",
              "\n",
              "   ...  GRADES_4_G  GRADES_8_G  GRADES_12_G  GRADES_1_8_G  GRADES_9_12_G  \\\n",
              "0  ...     57948.0     58025.0      41167.0           NaN            NaN   \n",
              "1  ...      9748.0      8789.0       6714.0           NaN            NaN   \n",
              "2  ...     55433.0     49081.0      37410.0           NaN            NaN   \n",
              "3  ...     34632.0     36011.0      27651.0           NaN            NaN   \n",
              "4  ...    418418.0    363296.0     270675.0           NaN            NaN   \n",
              "\n",
              "   GRADES_ALL_G  AVG_MATH_4_SCORE  AVG_MATH_8_SCORE  AVG_READING_4_SCORE  \\\n",
              "0      731634.0             208.0             252.0                207.0   \n",
              "1      122487.0               NaN               NaN                  NaN   \n",
              "2      673477.0             215.0             265.0                209.0   \n",
              "3      441490.0             210.0             256.0                211.0   \n",
              "4     5254844.0             208.0             261.0                202.0   \n",
              "\n",
              "   AVG_READING_8_SCORE  \n",
              "0                  NaN  \n",
              "1                  NaN  \n",
              "2                  NaN  \n",
              "3                  NaN  \n",
              "4                  NaN  \n",
              "\n",
              "[5 rows x 25 columns]"
            ],
            "text/html": [
              "\n",
              "  <div id=\"df-3b604dcf-977e-439f-9db6-13561b22f2d3\">\n",
              "    <div class=\"colab-df-container\">\n",
              "      <div>\n",
              "<style scoped>\n",
              "    .dataframe tbody tr th:only-of-type {\n",
              "        vertical-align: middle;\n",
              "    }\n",
              "\n",
              "    .dataframe tbody tr th {\n",
              "        vertical-align: top;\n",
              "    }\n",
              "\n",
              "    .dataframe thead th {\n",
              "        text-align: right;\n",
              "    }\n",
              "</style>\n",
              "<table border=\"1\" class=\"dataframe\">\n",
              "  <thead>\n",
              "    <tr style=\"text-align: right;\">\n",
              "      <th></th>\n",
              "      <th>PRIMARY_KEY</th>\n",
              "      <th>STATE</th>\n",
              "      <th>YEAR</th>\n",
              "      <th>ENROLL</th>\n",
              "      <th>TOTAL_REVENUE</th>\n",
              "      <th>FEDERAL_REVENUE</th>\n",
              "      <th>STATE_REVENUE</th>\n",
              "      <th>LOCAL_REVENUE</th>\n",
              "      <th>TOTAL_EXPENDITURE</th>\n",
              "      <th>INSTRUCTION_EXPENDITURE</th>\n",
              "      <th>...</th>\n",
              "      <th>GRADES_4_G</th>\n",
              "      <th>GRADES_8_G</th>\n",
              "      <th>GRADES_12_G</th>\n",
              "      <th>GRADES_1_8_G</th>\n",
              "      <th>GRADES_9_12_G</th>\n",
              "      <th>GRADES_ALL_G</th>\n",
              "      <th>AVG_MATH_4_SCORE</th>\n",
              "      <th>AVG_MATH_8_SCORE</th>\n",
              "      <th>AVG_READING_4_SCORE</th>\n",
              "      <th>AVG_READING_8_SCORE</th>\n",
              "    </tr>\n",
              "  </thead>\n",
              "  <tbody>\n",
              "    <tr>\n",
              "      <th>0</th>\n",
              "      <td>1992_ALABAMA</td>\n",
              "      <td>ALABAMA</td>\n",
              "      <td>1992</td>\n",
              "      <td>NaN</td>\n",
              "      <td>2678885.0</td>\n",
              "      <td>304177.0</td>\n",
              "      <td>1659028.0</td>\n",
              "      <td>715680.0</td>\n",
              "      <td>2653798.0</td>\n",
              "      <td>1481703.0</td>\n",
              "      <td>...</td>\n",
              "      <td>57948.0</td>\n",
              "      <td>58025.0</td>\n",
              "      <td>41167.0</td>\n",
              "      <td>NaN</td>\n",
              "      <td>NaN</td>\n",
              "      <td>731634.0</td>\n",
              "      <td>208.0</td>\n",
              "      <td>252.0</td>\n",
              "      <td>207.0</td>\n",
              "      <td>NaN</td>\n",
              "    </tr>\n",
              "    <tr>\n",
              "      <th>1</th>\n",
              "      <td>1992_ALASKA</td>\n",
              "      <td>ALASKA</td>\n",
              "      <td>1992</td>\n",
              "      <td>NaN</td>\n",
              "      <td>1049591.0</td>\n",
              "      <td>106780.0</td>\n",
              "      <td>720711.0</td>\n",
              "      <td>222100.0</td>\n",
              "      <td>972488.0</td>\n",
              "      <td>498362.0</td>\n",
              "      <td>...</td>\n",
              "      <td>9748.0</td>\n",
              "      <td>8789.0</td>\n",
              "      <td>6714.0</td>\n",
              "      <td>NaN</td>\n",
              "      <td>NaN</td>\n",
              "      <td>122487.0</td>\n",
              "      <td>NaN</td>\n",
              "      <td>NaN</td>\n",
              "      <td>NaN</td>\n",
              "      <td>NaN</td>\n",
              "    </tr>\n",
              "    <tr>\n",
              "      <th>2</th>\n",
              "      <td>1992_ARIZONA</td>\n",
              "      <td>ARIZONA</td>\n",
              "      <td>1992</td>\n",
              "      <td>NaN</td>\n",
              "      <td>3258079.0</td>\n",
              "      <td>297888.0</td>\n",
              "      <td>1369815.0</td>\n",
              "      <td>1590376.0</td>\n",
              "      <td>3401580.0</td>\n",
              "      <td>1435908.0</td>\n",
              "      <td>...</td>\n",
              "      <td>55433.0</td>\n",
              "      <td>49081.0</td>\n",
              "      <td>37410.0</td>\n",
              "      <td>NaN</td>\n",
              "      <td>NaN</td>\n",
              "      <td>673477.0</td>\n",
              "      <td>215.0</td>\n",
              "      <td>265.0</td>\n",
              "      <td>209.0</td>\n",
              "      <td>NaN</td>\n",
              "    </tr>\n",
              "    <tr>\n",
              "      <th>3</th>\n",
              "      <td>1992_ARKANSAS</td>\n",
              "      <td>ARKANSAS</td>\n",
              "      <td>1992</td>\n",
              "      <td>NaN</td>\n",
              "      <td>1711959.0</td>\n",
              "      <td>178571.0</td>\n",
              "      <td>958785.0</td>\n",
              "      <td>574603.0</td>\n",
              "      <td>1743022.0</td>\n",
              "      <td>964323.0</td>\n",
              "      <td>...</td>\n",
              "      <td>34632.0</td>\n",
              "      <td>36011.0</td>\n",
              "      <td>27651.0</td>\n",
              "      <td>NaN</td>\n",
              "      <td>NaN</td>\n",
              "      <td>441490.0</td>\n",
              "      <td>210.0</td>\n",
              "      <td>256.0</td>\n",
              "      <td>211.0</td>\n",
              "      <td>NaN</td>\n",
              "    </tr>\n",
              "    <tr>\n",
              "      <th>4</th>\n",
              "      <td>1992_CALIFORNIA</td>\n",
              "      <td>CALIFORNIA</td>\n",
              "      <td>1992</td>\n",
              "      <td>NaN</td>\n",
              "      <td>26260025.0</td>\n",
              "      <td>2072470.0</td>\n",
              "      <td>16546514.0</td>\n",
              "      <td>7641041.0</td>\n",
              "      <td>27138832.0</td>\n",
              "      <td>14358922.0</td>\n",
              "      <td>...</td>\n",
              "      <td>418418.0</td>\n",
              "      <td>363296.0</td>\n",
              "      <td>270675.0</td>\n",
              "      <td>NaN</td>\n",
              "      <td>NaN</td>\n",
              "      <td>5254844.0</td>\n",
              "      <td>208.0</td>\n",
              "      <td>261.0</td>\n",
              "      <td>202.0</td>\n",
              "      <td>NaN</td>\n",
              "    </tr>\n",
              "  </tbody>\n",
              "</table>\n",
              "<p>5 rows × 25 columns</p>\n",
              "</div>\n",
              "      <button class=\"colab-df-convert\" onclick=\"convertToInteractive('df-3b604dcf-977e-439f-9db6-13561b22f2d3')\"\n",
              "              title=\"Convert this dataframe to an interactive table.\"\n",
              "              style=\"display:none;\">\n",
              "        \n",
              "  <svg xmlns=\"http://www.w3.org/2000/svg\" height=\"24px\"viewBox=\"0 0 24 24\"\n",
              "       width=\"24px\">\n",
              "    <path d=\"M0 0h24v24H0V0z\" fill=\"none\"/>\n",
              "    <path d=\"M18.56 5.44l.94 2.06.94-2.06 2.06-.94-2.06-.94-.94-2.06-.94 2.06-2.06.94zm-11 1L8.5 8.5l.94-2.06 2.06-.94-2.06-.94L8.5 2.5l-.94 2.06-2.06.94zm10 10l.94 2.06.94-2.06 2.06-.94-2.06-.94-.94-2.06-.94 2.06-2.06.94z\"/><path d=\"M17.41 7.96l-1.37-1.37c-.4-.4-.92-.59-1.43-.59-.52 0-1.04.2-1.43.59L10.3 9.45l-7.72 7.72c-.78.78-.78 2.05 0 2.83L4 21.41c.39.39.9.59 1.41.59.51 0 1.02-.2 1.41-.59l7.78-7.78 2.81-2.81c.8-.78.8-2.07 0-2.86zM5.41 20L4 18.59l7.72-7.72 1.47 1.35L5.41 20z\"/>\n",
              "  </svg>\n",
              "      </button>\n",
              "      \n",
              "  <style>\n",
              "    .colab-df-container {\n",
              "      display:flex;\n",
              "      flex-wrap:wrap;\n",
              "      gap: 12px;\n",
              "    }\n",
              "\n",
              "    .colab-df-convert {\n",
              "      background-color: #E8F0FE;\n",
              "      border: none;\n",
              "      border-radius: 50%;\n",
              "      cursor: pointer;\n",
              "      display: none;\n",
              "      fill: #1967D2;\n",
              "      height: 32px;\n",
              "      padding: 0 0 0 0;\n",
              "      width: 32px;\n",
              "    }\n",
              "\n",
              "    .colab-df-convert:hover {\n",
              "      background-color: #E2EBFA;\n",
              "      box-shadow: 0px 1px 2px rgba(60, 64, 67, 0.3), 0px 1px 3px 1px rgba(60, 64, 67, 0.15);\n",
              "      fill: #174EA6;\n",
              "    }\n",
              "\n",
              "    [theme=dark] .colab-df-convert {\n",
              "      background-color: #3B4455;\n",
              "      fill: #D2E3FC;\n",
              "    }\n",
              "\n",
              "    [theme=dark] .colab-df-convert:hover {\n",
              "      background-color: #434B5C;\n",
              "      box-shadow: 0px 1px 3px 1px rgba(0, 0, 0, 0.15);\n",
              "      filter: drop-shadow(0px 1px 2px rgba(0, 0, 0, 0.3));\n",
              "      fill: #FFFFFF;\n",
              "    }\n",
              "  </style>\n",
              "\n",
              "      <script>\n",
              "        const buttonEl =\n",
              "          document.querySelector('#df-3b604dcf-977e-439f-9db6-13561b22f2d3 button.colab-df-convert');\n",
              "        buttonEl.style.display =\n",
              "          google.colab.kernel.accessAllowed ? 'block' : 'none';\n",
              "\n",
              "        async function convertToInteractive(key) {\n",
              "          const element = document.querySelector('#df-3b604dcf-977e-439f-9db6-13561b22f2d3');\n",
              "          const dataTable =\n",
              "            await google.colab.kernel.invokeFunction('convertToInteractive',\n",
              "                                                     [key], {});\n",
              "          if (!dataTable) return;\n",
              "\n",
              "          const docLinkHtml = 'Like what you see? Visit the ' +\n",
              "            '<a target=\"_blank\" href=https://colab.research.google.com/notebooks/data_table.ipynb>data table notebook</a>'\n",
              "            + ' to learn more about interactive tables.';\n",
              "          element.innerHTML = '';\n",
              "          dataTable['output_type'] = 'display_data';\n",
              "          await google.colab.output.renderOutput(dataTable, element);\n",
              "          const docLink = document.createElement('div');\n",
              "          docLink.innerHTML = docLinkHtml;\n",
              "          element.appendChild(docLink);\n",
              "        }\n",
              "      </script>\n",
              "    </div>\n",
              "  </div>\n",
              "  "
            ]
          },
          "metadata": {},
          "execution_count": 5
        }
      ],
      "source": [
        "df = pd.read_csv('sample_data/states_edu.csv')\n",
        "df.head()"
      ]
    },
    {
      "cell_type": "markdown",
      "metadata": {
        "id": "XktAoTrcWvHO"
      },
      "source": [
        "You should always familiarize yourself with what each column in the dataframe represents. Read about the states_edu dataset here: https://www.kaggle.com/noriuk/us-education-datasets-unification-project"
      ]
    },
    {
      "cell_type": "markdown",
      "metadata": {
        "id": "CgeNpOnQWvHO"
      },
      "source": [
        "Use this space to rename columns, deal with missing data, etc. _(optional)_"
      ]
    },
    {
      "cell_type": "code",
      "execution_count": 7,
      "metadata": {
        "id": "AZ9tJxWUWvHP",
        "colab": {
          "base_uri": "https://localhost:8080/"
        },
        "outputId": "557d3e02-9f18-419d-cec4-2513bb023f4c"
      },
      "outputs": [
        {
          "output_type": "execute_result",
          "data": {
            "text/plain": [
              "Index(['PRIMARY_KEY', 'STATE', 'YEAR', 'ENROLL', 'TOTAL_REVENUE',\n",
              "       'FEDERAL_REVENUE', 'STATE_REVENUE', 'LOCAL_REVENUE',\n",
              "       'TOTAL_EXPENDITURE', 'INSTRUCTION_EXPENDITURE',\n",
              "       'SUPPORT_SERVICES_EXPENDITURE', 'OTHER_EXPENDITURE',\n",
              "       'CAPITAL_OUTLAY_EXPENDITURE', 'GRADES_PK_G', 'GRADES_KG_G',\n",
              "       'GRADES_4_G', 'GRADES_8_G', 'GRADES_12_G', 'GRADES_1_8_G',\n",
              "       'GRADES_9_12_G', 'GRADES_ALL_G', 'AVG_MATH_4_SCORE', 'AVG_MATH_8_SCORE',\n",
              "       'AVG_READING_4_SCORE', 'AVG_READING_8_SCORE'],\n",
              "      dtype='object')"
            ]
          },
          "metadata": {},
          "execution_count": 7
        }
      ],
      "source": [
        "df.columns"
      ]
    },
    {
      "cell_type": "code",
      "source": [
        "# renaming columns\n",
        "df.rename({\n",
        "    'GRADES_PK_G':'ENROLL_PREK',\n",
        "    'GRADES_KG_G':'ENROLL_KINDER',\n",
        "    'GRADES_4_G':'ENROLL_4',\n",
        "    'GRADES_8_G':'ENROLL_8',\n",
        "    'GRADES_12_G':'ENROLL_12',\n",
        "    'GRADES_1_8_G':'ENROLL_PRIMARY',\n",
        "    'GRADES_9_12_G':'ENROLL_HS',\n",
        "    'GRADES_ALL_G':'ENROLL_ALL',\n",
        "    'ENROLL':'ENROLL_ALL_EST'\n",
        "    },\n",
        "    axis=1,inplace=True)"
      ],
      "metadata": {
        "id": "k6UbJgWnsL1s"
      },
      "execution_count": 8,
      "outputs": []
    },
    {
      "cell_type": "code",
      "source": [
        "df.dropna()"
      ],
      "metadata": {
        "colab": {
          "base_uri": "https://localhost:8080/",
          "height": 483
        },
        "id": "UnmZD6GQsLzf",
        "outputId": "2e6bfa74-1986-4d10-999a-ce30918caa33"
      },
      "execution_count": 9,
      "outputs": [
        {
          "output_type": "execute_result",
          "data": {
            "text/plain": [
              "             PRIMARY_KEY          STATE  YEAR  ENROLL_ALL_EST  TOTAL_REVENUE  \\\n",
              "561         2003_ALABAMA        ALABAMA  2003        727900.0      5196054.0   \n",
              "562          2003_ALASKA         ALASKA  2003        133303.0      1425948.0   \n",
              "563         2003_ARIZONA        ARIZONA  2003        875111.0      6529894.0   \n",
              "564        2003_ARKANSAS       ARKANSAS  2003        450158.0      3241275.0   \n",
              "565      2003_CALIFORNIA     CALIFORNIA  2003       6226552.0     59815855.0   \n",
              "...                  ...            ...   ...             ...            ...   \n",
              "1219       2015_VIRGINIA       VIRGINIA  2015       1279867.0     15857524.0   \n",
              "1220     2015_WASHINGTON     WASHINGTON  2015       1072359.0     13709442.0   \n",
              "1221  2015_WEST_VIRGINIA  WEST_VIRGINIA  2015        279565.0      3478401.0   \n",
              "1222      2015_WISCONSIN      WISCONSIN  2015        861813.0     11637376.0   \n",
              "1223        2015_WYOMING        WYOMING  2015         93867.0      1962874.0   \n",
              "\n",
              "      FEDERAL_REVENUE  STATE_REVENUE  LOCAL_REVENUE  TOTAL_EXPENDITURE  \\\n",
              "561          567704.0      2966981.0      1661369.0          5298932.0   \n",
              "562          259423.0       813371.0       353154.0          1610289.0   \n",
              "563          740579.0      2912629.0      2876686.0          6210287.0   \n",
              "564          379947.0      2394336.0       466992.0          3242799.0   \n",
              "565         5795655.0     33617766.0     20402434.0         59749885.0   \n",
              "...               ...            ...            ...                ...   \n",
              "1219        1012205.0      6240349.0      8604970.0         16113212.0   \n",
              "1220        1036422.0      8293812.0      4379208.0         13630138.0   \n",
              "1221         362959.0      1979466.0      1135976.0          3466981.0   \n",
              "1222         814385.0      5869265.0      4953726.0         11553677.0   \n",
              "1223         120290.0      1116917.0       725667.0          1942406.0   \n",
              "\n",
              "      INSTRUCTION_EXPENDITURE  ...  ENROLL_4  ENROLL_8  ENROLL_12  \\\n",
              "561                 2817111.0  ...   57323.0   59663.0    42005.0   \n",
              "562                  763525.0  ...   10115.0   11140.0     8651.0   \n",
              "563                 2810907.0  ...   76207.0   76376.0    68815.0   \n",
              "564                 1768713.0  ...   34070.0   37004.0    28840.0   \n",
              "565                29561563.0  ...  493415.0  500143.0   395194.0   \n",
              "...                       ...  ...       ...       ...        ...   \n",
              "1219                8755896.0  ...   96851.0   95221.0    90391.0   \n",
              "1220                6508964.0  ...   82404.0   79483.0    89258.0   \n",
              "1221                1819903.0  ...   19814.0   20426.0    18432.0   \n",
              "1222                5723474.0  ...   60999.0   61084.0    66253.0   \n",
              "1223                 895910.0  ...    7551.0    6902.0     6299.0   \n",
              "\n",
              "      ENROLL_PRIMARY  ENROLL_HS  ENROLL_ALL  AVG_MATH_4_SCORE  \\\n",
              "561         466920.0   205907.0    731220.0             223.0   \n",
              "562          82337.0    40238.0    133933.0             233.0   \n",
              "563         613442.0   307272.0   1012068.0             229.0   \n",
              "564         281834.0   132712.0    454523.0             229.0   \n",
              "565        3929869.0  1854518.0   6413867.0             227.0   \n",
              "...              ...        ...         ...               ...   \n",
              "1219        772414.0   386781.0   1283590.0             247.0   \n",
              "1220        656797.0   336808.0   1087030.0             245.0   \n",
              "1221        162070.0    80142.0    277452.0             235.0   \n",
              "1222        489919.0   263896.0    867800.0             243.0   \n",
              "1223         59453.0    26914.0     94717.0             247.0   \n",
              "\n",
              "      AVG_MATH_8_SCORE  AVG_READING_4_SCORE  AVG_READING_8_SCORE  \n",
              "561              262.0                207.0                253.0  \n",
              "562              279.0                212.0                256.0  \n",
              "563              271.0                209.0                255.0  \n",
              "564              266.0                214.0                258.0  \n",
              "565              267.0                206.0                251.0  \n",
              "...                ...                  ...                  ...  \n",
              "1219             288.0                229.0                267.0  \n",
              "1220             287.0                226.0                267.0  \n",
              "1221             271.0                216.0                260.0  \n",
              "1222             289.0                223.0                270.0  \n",
              "1223             287.0                228.0                269.0  \n",
              "\n",
              "[355 rows x 25 columns]"
            ],
            "text/html": [
              "\n",
              "  <div id=\"df-716b9efd-add2-42f5-ae16-6dfae5001d3b\">\n",
              "    <div class=\"colab-df-container\">\n",
              "      <div>\n",
              "<style scoped>\n",
              "    .dataframe tbody tr th:only-of-type {\n",
              "        vertical-align: middle;\n",
              "    }\n",
              "\n",
              "    .dataframe tbody tr th {\n",
              "        vertical-align: top;\n",
              "    }\n",
              "\n",
              "    .dataframe thead th {\n",
              "        text-align: right;\n",
              "    }\n",
              "</style>\n",
              "<table border=\"1\" class=\"dataframe\">\n",
              "  <thead>\n",
              "    <tr style=\"text-align: right;\">\n",
              "      <th></th>\n",
              "      <th>PRIMARY_KEY</th>\n",
              "      <th>STATE</th>\n",
              "      <th>YEAR</th>\n",
              "      <th>ENROLL_ALL_EST</th>\n",
              "      <th>TOTAL_REVENUE</th>\n",
              "      <th>FEDERAL_REVENUE</th>\n",
              "      <th>STATE_REVENUE</th>\n",
              "      <th>LOCAL_REVENUE</th>\n",
              "      <th>TOTAL_EXPENDITURE</th>\n",
              "      <th>INSTRUCTION_EXPENDITURE</th>\n",
              "      <th>...</th>\n",
              "      <th>ENROLL_4</th>\n",
              "      <th>ENROLL_8</th>\n",
              "      <th>ENROLL_12</th>\n",
              "      <th>ENROLL_PRIMARY</th>\n",
              "      <th>ENROLL_HS</th>\n",
              "      <th>ENROLL_ALL</th>\n",
              "      <th>AVG_MATH_4_SCORE</th>\n",
              "      <th>AVG_MATH_8_SCORE</th>\n",
              "      <th>AVG_READING_4_SCORE</th>\n",
              "      <th>AVG_READING_8_SCORE</th>\n",
              "    </tr>\n",
              "  </thead>\n",
              "  <tbody>\n",
              "    <tr>\n",
              "      <th>561</th>\n",
              "      <td>2003_ALABAMA</td>\n",
              "      <td>ALABAMA</td>\n",
              "      <td>2003</td>\n",
              "      <td>727900.0</td>\n",
              "      <td>5196054.0</td>\n",
              "      <td>567704.0</td>\n",
              "      <td>2966981.0</td>\n",
              "      <td>1661369.0</td>\n",
              "      <td>5298932.0</td>\n",
              "      <td>2817111.0</td>\n",
              "      <td>...</td>\n",
              "      <td>57323.0</td>\n",
              "      <td>59663.0</td>\n",
              "      <td>42005.0</td>\n",
              "      <td>466920.0</td>\n",
              "      <td>205907.0</td>\n",
              "      <td>731220.0</td>\n",
              "      <td>223.0</td>\n",
              "      <td>262.0</td>\n",
              "      <td>207.0</td>\n",
              "      <td>253.0</td>\n",
              "    </tr>\n",
              "    <tr>\n",
              "      <th>562</th>\n",
              "      <td>2003_ALASKA</td>\n",
              "      <td>ALASKA</td>\n",
              "      <td>2003</td>\n",
              "      <td>133303.0</td>\n",
              "      <td>1425948.0</td>\n",
              "      <td>259423.0</td>\n",
              "      <td>813371.0</td>\n",
              "      <td>353154.0</td>\n",
              "      <td>1610289.0</td>\n",
              "      <td>763525.0</td>\n",
              "      <td>...</td>\n",
              "      <td>10115.0</td>\n",
              "      <td>11140.0</td>\n",
              "      <td>8651.0</td>\n",
              "      <td>82337.0</td>\n",
              "      <td>40238.0</td>\n",
              "      <td>133933.0</td>\n",
              "      <td>233.0</td>\n",
              "      <td>279.0</td>\n",
              "      <td>212.0</td>\n",
              "      <td>256.0</td>\n",
              "    </tr>\n",
              "    <tr>\n",
              "      <th>563</th>\n",
              "      <td>2003_ARIZONA</td>\n",
              "      <td>ARIZONA</td>\n",
              "      <td>2003</td>\n",
              "      <td>875111.0</td>\n",
              "      <td>6529894.0</td>\n",
              "      <td>740579.0</td>\n",
              "      <td>2912629.0</td>\n",
              "      <td>2876686.0</td>\n",
              "      <td>6210287.0</td>\n",
              "      <td>2810907.0</td>\n",
              "      <td>...</td>\n",
              "      <td>76207.0</td>\n",
              "      <td>76376.0</td>\n",
              "      <td>68815.0</td>\n",
              "      <td>613442.0</td>\n",
              "      <td>307272.0</td>\n",
              "      <td>1012068.0</td>\n",
              "      <td>229.0</td>\n",
              "      <td>271.0</td>\n",
              "      <td>209.0</td>\n",
              "      <td>255.0</td>\n",
              "    </tr>\n",
              "    <tr>\n",
              "      <th>564</th>\n",
              "      <td>2003_ARKANSAS</td>\n",
              "      <td>ARKANSAS</td>\n",
              "      <td>2003</td>\n",
              "      <td>450158.0</td>\n",
              "      <td>3241275.0</td>\n",
              "      <td>379947.0</td>\n",
              "      <td>2394336.0</td>\n",
              "      <td>466992.0</td>\n",
              "      <td>3242799.0</td>\n",
              "      <td>1768713.0</td>\n",
              "      <td>...</td>\n",
              "      <td>34070.0</td>\n",
              "      <td>37004.0</td>\n",
              "      <td>28840.0</td>\n",
              "      <td>281834.0</td>\n",
              "      <td>132712.0</td>\n",
              "      <td>454523.0</td>\n",
              "      <td>229.0</td>\n",
              "      <td>266.0</td>\n",
              "      <td>214.0</td>\n",
              "      <td>258.0</td>\n",
              "    </tr>\n",
              "    <tr>\n",
              "      <th>565</th>\n",
              "      <td>2003_CALIFORNIA</td>\n",
              "      <td>CALIFORNIA</td>\n",
              "      <td>2003</td>\n",
              "      <td>6226552.0</td>\n",
              "      <td>59815855.0</td>\n",
              "      <td>5795655.0</td>\n",
              "      <td>33617766.0</td>\n",
              "      <td>20402434.0</td>\n",
              "      <td>59749885.0</td>\n",
              "      <td>29561563.0</td>\n",
              "      <td>...</td>\n",
              "      <td>493415.0</td>\n",
              "      <td>500143.0</td>\n",
              "      <td>395194.0</td>\n",
              "      <td>3929869.0</td>\n",
              "      <td>1854518.0</td>\n",
              "      <td>6413867.0</td>\n",
              "      <td>227.0</td>\n",
              "      <td>267.0</td>\n",
              "      <td>206.0</td>\n",
              "      <td>251.0</td>\n",
              "    </tr>\n",
              "    <tr>\n",
              "      <th>...</th>\n",
              "      <td>...</td>\n",
              "      <td>...</td>\n",
              "      <td>...</td>\n",
              "      <td>...</td>\n",
              "      <td>...</td>\n",
              "      <td>...</td>\n",
              "      <td>...</td>\n",
              "      <td>...</td>\n",
              "      <td>...</td>\n",
              "      <td>...</td>\n",
              "      <td>...</td>\n",
              "      <td>...</td>\n",
              "      <td>...</td>\n",
              "      <td>...</td>\n",
              "      <td>...</td>\n",
              "      <td>...</td>\n",
              "      <td>...</td>\n",
              "      <td>...</td>\n",
              "      <td>...</td>\n",
              "      <td>...</td>\n",
              "      <td>...</td>\n",
              "    </tr>\n",
              "    <tr>\n",
              "      <th>1219</th>\n",
              "      <td>2015_VIRGINIA</td>\n",
              "      <td>VIRGINIA</td>\n",
              "      <td>2015</td>\n",
              "      <td>1279867.0</td>\n",
              "      <td>15857524.0</td>\n",
              "      <td>1012205.0</td>\n",
              "      <td>6240349.0</td>\n",
              "      <td>8604970.0</td>\n",
              "      <td>16113212.0</td>\n",
              "      <td>8755896.0</td>\n",
              "      <td>...</td>\n",
              "      <td>96851.0</td>\n",
              "      <td>95221.0</td>\n",
              "      <td>90391.0</td>\n",
              "      <td>772414.0</td>\n",
              "      <td>386781.0</td>\n",
              "      <td>1283590.0</td>\n",
              "      <td>247.0</td>\n",
              "      <td>288.0</td>\n",
              "      <td>229.0</td>\n",
              "      <td>267.0</td>\n",
              "    </tr>\n",
              "    <tr>\n",
              "      <th>1220</th>\n",
              "      <td>2015_WASHINGTON</td>\n",
              "      <td>WASHINGTON</td>\n",
              "      <td>2015</td>\n",
              "      <td>1072359.0</td>\n",
              "      <td>13709442.0</td>\n",
              "      <td>1036422.0</td>\n",
              "      <td>8293812.0</td>\n",
              "      <td>4379208.0</td>\n",
              "      <td>13630138.0</td>\n",
              "      <td>6508964.0</td>\n",
              "      <td>...</td>\n",
              "      <td>82404.0</td>\n",
              "      <td>79483.0</td>\n",
              "      <td>89258.0</td>\n",
              "      <td>656797.0</td>\n",
              "      <td>336808.0</td>\n",
              "      <td>1087030.0</td>\n",
              "      <td>245.0</td>\n",
              "      <td>287.0</td>\n",
              "      <td>226.0</td>\n",
              "      <td>267.0</td>\n",
              "    </tr>\n",
              "    <tr>\n",
              "      <th>1221</th>\n",
              "      <td>2015_WEST_VIRGINIA</td>\n",
              "      <td>WEST_VIRGINIA</td>\n",
              "      <td>2015</td>\n",
              "      <td>279565.0</td>\n",
              "      <td>3478401.0</td>\n",
              "      <td>362959.0</td>\n",
              "      <td>1979466.0</td>\n",
              "      <td>1135976.0</td>\n",
              "      <td>3466981.0</td>\n",
              "      <td>1819903.0</td>\n",
              "      <td>...</td>\n",
              "      <td>19814.0</td>\n",
              "      <td>20426.0</td>\n",
              "      <td>18432.0</td>\n",
              "      <td>162070.0</td>\n",
              "      <td>80142.0</td>\n",
              "      <td>277452.0</td>\n",
              "      <td>235.0</td>\n",
              "      <td>271.0</td>\n",
              "      <td>216.0</td>\n",
              "      <td>260.0</td>\n",
              "    </tr>\n",
              "    <tr>\n",
              "      <th>1222</th>\n",
              "      <td>2015_WISCONSIN</td>\n",
              "      <td>WISCONSIN</td>\n",
              "      <td>2015</td>\n",
              "      <td>861813.0</td>\n",
              "      <td>11637376.0</td>\n",
              "      <td>814385.0</td>\n",
              "      <td>5869265.0</td>\n",
              "      <td>4953726.0</td>\n",
              "      <td>11553677.0</td>\n",
              "      <td>5723474.0</td>\n",
              "      <td>...</td>\n",
              "      <td>60999.0</td>\n",
              "      <td>61084.0</td>\n",
              "      <td>66253.0</td>\n",
              "      <td>489919.0</td>\n",
              "      <td>263896.0</td>\n",
              "      <td>867800.0</td>\n",
              "      <td>243.0</td>\n",
              "      <td>289.0</td>\n",
              "      <td>223.0</td>\n",
              "      <td>270.0</td>\n",
              "    </tr>\n",
              "    <tr>\n",
              "      <th>1223</th>\n",
              "      <td>2015_WYOMING</td>\n",
              "      <td>WYOMING</td>\n",
              "      <td>2015</td>\n",
              "      <td>93867.0</td>\n",
              "      <td>1962874.0</td>\n",
              "      <td>120290.0</td>\n",
              "      <td>1116917.0</td>\n",
              "      <td>725667.0</td>\n",
              "      <td>1942406.0</td>\n",
              "      <td>895910.0</td>\n",
              "      <td>...</td>\n",
              "      <td>7551.0</td>\n",
              "      <td>6902.0</td>\n",
              "      <td>6299.0</td>\n",
              "      <td>59453.0</td>\n",
              "      <td>26914.0</td>\n",
              "      <td>94717.0</td>\n",
              "      <td>247.0</td>\n",
              "      <td>287.0</td>\n",
              "      <td>228.0</td>\n",
              "      <td>269.0</td>\n",
              "    </tr>\n",
              "  </tbody>\n",
              "</table>\n",
              "<p>355 rows × 25 columns</p>\n",
              "</div>\n",
              "      <button class=\"colab-df-convert\" onclick=\"convertToInteractive('df-716b9efd-add2-42f5-ae16-6dfae5001d3b')\"\n",
              "              title=\"Convert this dataframe to an interactive table.\"\n",
              "              style=\"display:none;\">\n",
              "        \n",
              "  <svg xmlns=\"http://www.w3.org/2000/svg\" height=\"24px\"viewBox=\"0 0 24 24\"\n",
              "       width=\"24px\">\n",
              "    <path d=\"M0 0h24v24H0V0z\" fill=\"none\"/>\n",
              "    <path d=\"M18.56 5.44l.94 2.06.94-2.06 2.06-.94-2.06-.94-.94-2.06-.94 2.06-2.06.94zm-11 1L8.5 8.5l.94-2.06 2.06-.94-2.06-.94L8.5 2.5l-.94 2.06-2.06.94zm10 10l.94 2.06.94-2.06 2.06-.94-2.06-.94-.94-2.06-.94 2.06-2.06.94z\"/><path d=\"M17.41 7.96l-1.37-1.37c-.4-.4-.92-.59-1.43-.59-.52 0-1.04.2-1.43.59L10.3 9.45l-7.72 7.72c-.78.78-.78 2.05 0 2.83L4 21.41c.39.39.9.59 1.41.59.51 0 1.02-.2 1.41-.59l7.78-7.78 2.81-2.81c.8-.78.8-2.07 0-2.86zM5.41 20L4 18.59l7.72-7.72 1.47 1.35L5.41 20z\"/>\n",
              "  </svg>\n",
              "      </button>\n",
              "      \n",
              "  <style>\n",
              "    .colab-df-container {\n",
              "      display:flex;\n",
              "      flex-wrap:wrap;\n",
              "      gap: 12px;\n",
              "    }\n",
              "\n",
              "    .colab-df-convert {\n",
              "      background-color: #E8F0FE;\n",
              "      border: none;\n",
              "      border-radius: 50%;\n",
              "      cursor: pointer;\n",
              "      display: none;\n",
              "      fill: #1967D2;\n",
              "      height: 32px;\n",
              "      padding: 0 0 0 0;\n",
              "      width: 32px;\n",
              "    }\n",
              "\n",
              "    .colab-df-convert:hover {\n",
              "      background-color: #E2EBFA;\n",
              "      box-shadow: 0px 1px 2px rgba(60, 64, 67, 0.3), 0px 1px 3px 1px rgba(60, 64, 67, 0.15);\n",
              "      fill: #174EA6;\n",
              "    }\n",
              "\n",
              "    [theme=dark] .colab-df-convert {\n",
              "      background-color: #3B4455;\n",
              "      fill: #D2E3FC;\n",
              "    }\n",
              "\n",
              "    [theme=dark] .colab-df-convert:hover {\n",
              "      background-color: #434B5C;\n",
              "      box-shadow: 0px 1px 3px 1px rgba(0, 0, 0, 0.15);\n",
              "      filter: drop-shadow(0px 1px 2px rgba(0, 0, 0, 0.3));\n",
              "      fill: #FFFFFF;\n",
              "    }\n",
              "  </style>\n",
              "\n",
              "      <script>\n",
              "        const buttonEl =\n",
              "          document.querySelector('#df-716b9efd-add2-42f5-ae16-6dfae5001d3b button.colab-df-convert');\n",
              "        buttonEl.style.display =\n",
              "          google.colab.kernel.accessAllowed ? 'block' : 'none';\n",
              "\n",
              "        async function convertToInteractive(key) {\n",
              "          const element = document.querySelector('#df-716b9efd-add2-42f5-ae16-6dfae5001d3b');\n",
              "          const dataTable =\n",
              "            await google.colab.kernel.invokeFunction('convertToInteractive',\n",
              "                                                     [key], {});\n",
              "          if (!dataTable) return;\n",
              "\n",
              "          const docLinkHtml = 'Like what you see? Visit the ' +\n",
              "            '<a target=\"_blank\" href=https://colab.research.google.com/notebooks/data_table.ipynb>data table notebook</a>'\n",
              "            + ' to learn more about interactive tables.';\n",
              "          element.innerHTML = '';\n",
              "          dataTable['output_type'] = 'display_data';\n",
              "          await google.colab.output.renderOutput(dataTable, element);\n",
              "          const docLink = document.createElement('div');\n",
              "          docLink.innerHTML = docLinkHtml;\n",
              "          element.appendChild(docLink);\n",
              "        }\n",
              "      </script>\n",
              "    </div>\n",
              "  </div>\n",
              "  "
            ]
          },
          "metadata": {},
          "execution_count": 9
        }
      ]
    },
    {
      "cell_type": "code",
      "source": [
        "# remove all rows that have missing data in Grade 8 Average Math Score\n",
        "df.dropna(subset=['AVG_MATH_8_SCORE'], inplace=True)"
      ],
      "metadata": {
        "id": "dBfcS51AsLww"
      },
      "execution_count": 42,
      "outputs": []
    },
    {
      "cell_type": "code",
      "source": [
        "# start the process of filling in the missing data points for enrollment...filling in the missing estimates based on the average error of 1.95%\n",
        "((df[\"ENROLL_ALL\"] - df[\"ENROLL_ALL_EST\"])/df[\"ENROLL_ALL\"]).describe()\n",
        "df[\"ENROLL_ALL_EST\"] = df[\"ENROLL_ALL_EST\"].fillna(df[\"ENROLL_ALL\"])"
      ],
      "metadata": {
        "id": "3T2CluaasLuJ"
      },
      "execution_count": 19,
      "outputs": []
    },
    {
      "cell_type": "code",
      "source": [],
      "metadata": {
        "id": "C798V2tesLqe"
      },
      "execution_count": null,
      "outputs": []
    },
    {
      "cell_type": "code",
      "source": [],
      "metadata": {
        "id": "VWBcFxjysLkr"
      },
      "execution_count": null,
      "outputs": []
    },
    {
      "cell_type": "code",
      "source": [],
      "metadata": {
        "id": "SFQsL1orsLaF"
      },
      "execution_count": null,
      "outputs": []
    },
    {
      "cell_type": "markdown",
      "metadata": {
        "id": "DRx3bJrvWvHP"
      },
      "source": [
        "<h2>Exploratory Data Analysis (EDA) </h2>"
      ]
    },
    {
      "cell_type": "markdown",
      "metadata": {
        "id": "6V7plbSrWvHP"
      },
      "source": [
        "Chosen Outcome Variable for Test: *Grade 8 Math Scores*"
      ]
    },
    {
      "cell_type": "markdown",
      "metadata": {
        "id": "mNvCv0xQWvHP"
      },
      "source": [
        "How many years of data are logged in our dataset? "
      ]
    },
    {
      "cell_type": "code",
      "execution_count": 23,
      "metadata": {
        "id": "7CRPCy6xWvHQ",
        "colab": {
          "base_uri": "https://localhost:8080/"
        },
        "outputId": "8a17c3bc-839e-43ac-9a4a-52e984ce7e6b"
      },
      "outputs": [
        {
          "output_type": "execute_result",
          "data": {
            "text/plain": [
              "Index(['PRIMARY_KEY', 'STATE', 'YEAR', 'ENROLL_ALL_EST', 'TOTAL_REVENUE',\n",
              "       'FEDERAL_REVENUE', 'STATE_REVENUE', 'LOCAL_REVENUE',\n",
              "       'TOTAL_EXPENDITURE', 'INSTRUCTION_EXPENDITURE',\n",
              "       'SUPPORT_SERVICES_EXPENDITURE', 'OTHER_EXPENDITURE',\n",
              "       'CAPITAL_OUTLAY_EXPENDITURE', 'ENROLL_PREK', 'ENROLL_KINDER',\n",
              "       'ENROLL_4', 'ENROLL_8', 'ENROLL_12', 'ENROLL_PRIMARY', 'ENROLL_HS',\n",
              "       'ENROLL_ALL', 'AVG_MATH_4_SCORE', 'AVG_MATH_8_SCORE',\n",
              "       'AVG_READING_4_SCORE', 'AVG_READING_8_SCORE'],\n",
              "      dtype='object')"
            ]
          },
          "metadata": {},
          "execution_count": 23
        }
      ],
      "source": [
        "df.columns\n",
        "# df[\"YEAR\"]\n",
        "# From 1992 to 2019, there are 27 years of data logged in the dataset"
      ]
    },
    {
      "cell_type": "markdown",
      "metadata": {
        "id": "qJvkf1XAWvHQ"
      },
      "source": [
        "Let's compare Michigan to Ohio. Which state has the higher average outcome score across all years?"
      ]
    },
    {
      "cell_type": "code",
      "execution_count": 53,
      "metadata": {
        "id": "nNAmuS2YWvHQ",
        "colab": {
          "base_uri": "https://localhost:8080/",
          "height": 824
        },
        "outputId": "c52cc537-928f-433a-c8b5-df74314af59c"
      },
      "outputs": [
        {
          "output_type": "execute_result",
          "data": {
            "text/plain": [
              "          avg_ohio_m8  avg_ohio_m4  avg_ohio_r8  avg_ohio_r4  avg_michigan_m8  \\\n",
              "STATE                                                                           \n",
              "OHIO           282.25   239.454545   267.666667        223.3       276.166667   \n",
              "OHIO           282.25   239.454545   267.666667        223.3       276.166667   \n",
              "OHIO           282.25   239.454545   267.666667        223.3       276.166667   \n",
              "OHIO           282.25   239.454545   267.666667        223.3       276.166667   \n",
              "OHIO           282.25   239.454545   267.666667        223.3       276.166667   \n",
              "OHIO           282.25   239.454545   267.666667        223.3       276.166667   \n",
              "OHIO           282.25   239.454545   267.666667        223.3       276.166667   \n",
              "OHIO           282.25   239.454545   267.666667        223.3       276.166667   \n",
              "OHIO           282.25   239.454545   267.666667        223.3       276.166667   \n",
              "OHIO           282.25   239.454545   267.666667        223.3       276.166667   \n",
              "OHIO           282.25   239.454545   267.666667        223.3       276.166667   \n",
              "OHIO           282.25   239.454545   267.666667        223.3       276.166667   \n",
              "MICHIGAN       282.25   239.454545   267.666667        223.3       276.166667   \n",
              "MICHIGAN       282.25   239.454545   267.666667        223.3       276.166667   \n",
              "MICHIGAN       282.25   239.454545   267.666667        223.3       276.166667   \n",
              "MICHIGAN       282.25   239.454545   267.666667        223.3       276.166667   \n",
              "MICHIGAN       282.25   239.454545   267.666667        223.3       276.166667   \n",
              "MICHIGAN       282.25   239.454545   267.666667        223.3       276.166667   \n",
              "MICHIGAN       282.25   239.454545   267.666667        223.3       276.166667   \n",
              "MICHIGAN       282.25   239.454545   267.666667        223.3       276.166667   \n",
              "MICHIGAN       282.25   239.454545   267.666667        223.3       276.166667   \n",
              "MICHIGAN       282.25   239.454545   267.666667        223.3       276.166667   \n",
              "MICHIGAN       282.25   239.454545   267.666667        223.3       276.166667   \n",
              "MICHIGAN       282.25   239.454545   267.666667        223.3       276.166667   \n",
              "\n",
              "          avg_michigan_m4  avg_michigan_r8  avg_michigan_r4  \n",
              "STATE                                                        \n",
              "OHIO           234.363636       263.333333            217.9  \n",
              "OHIO           234.363636       263.333333            217.9  \n",
              "OHIO           234.363636       263.333333            217.9  \n",
              "OHIO           234.363636       263.333333            217.9  \n",
              "OHIO           234.363636       263.333333            217.9  \n",
              "OHIO           234.363636       263.333333            217.9  \n",
              "OHIO           234.363636       263.333333            217.9  \n",
              "OHIO           234.363636       263.333333            217.9  \n",
              "OHIO           234.363636       263.333333            217.9  \n",
              "OHIO           234.363636       263.333333            217.9  \n",
              "OHIO           234.363636       263.333333            217.9  \n",
              "OHIO           234.363636       263.333333            217.9  \n",
              "MICHIGAN       234.363636       263.333333            217.9  \n",
              "MICHIGAN       234.363636       263.333333            217.9  \n",
              "MICHIGAN       234.363636       263.333333            217.9  \n",
              "MICHIGAN       234.363636       263.333333            217.9  \n",
              "MICHIGAN       234.363636       263.333333            217.9  \n",
              "MICHIGAN       234.363636       263.333333            217.9  \n",
              "MICHIGAN       234.363636       263.333333            217.9  \n",
              "MICHIGAN       234.363636       263.333333            217.9  \n",
              "MICHIGAN       234.363636       263.333333            217.9  \n",
              "MICHIGAN       234.363636       263.333333            217.9  \n",
              "MICHIGAN       234.363636       263.333333            217.9  \n",
              "MICHIGAN       234.363636       263.333333            217.9  "
            ],
            "text/html": [
              "\n",
              "  <div id=\"df-3eb7f9e9-91db-40cc-854e-d4b7e542cc90\">\n",
              "    <div class=\"colab-df-container\">\n",
              "      <div>\n",
              "<style scoped>\n",
              "    .dataframe tbody tr th:only-of-type {\n",
              "        vertical-align: middle;\n",
              "    }\n",
              "\n",
              "    .dataframe tbody tr th {\n",
              "        vertical-align: top;\n",
              "    }\n",
              "\n",
              "    .dataframe thead th {\n",
              "        text-align: right;\n",
              "    }\n",
              "</style>\n",
              "<table border=\"1\" class=\"dataframe\">\n",
              "  <thead>\n",
              "    <tr style=\"text-align: right;\">\n",
              "      <th></th>\n",
              "      <th>avg_ohio_m8</th>\n",
              "      <th>avg_ohio_m4</th>\n",
              "      <th>avg_ohio_r8</th>\n",
              "      <th>avg_ohio_r4</th>\n",
              "      <th>avg_michigan_m8</th>\n",
              "      <th>avg_michigan_m4</th>\n",
              "      <th>avg_michigan_r8</th>\n",
              "      <th>avg_michigan_r4</th>\n",
              "    </tr>\n",
              "    <tr>\n",
              "      <th>STATE</th>\n",
              "      <th></th>\n",
              "      <th></th>\n",
              "      <th></th>\n",
              "      <th></th>\n",
              "      <th></th>\n",
              "      <th></th>\n",
              "      <th></th>\n",
              "      <th></th>\n",
              "    </tr>\n",
              "  </thead>\n",
              "  <tbody>\n",
              "    <tr>\n",
              "      <th>OHIO</th>\n",
              "      <td>282.25</td>\n",
              "      <td>239.454545</td>\n",
              "      <td>267.666667</td>\n",
              "      <td>223.3</td>\n",
              "      <td>276.166667</td>\n",
              "      <td>234.363636</td>\n",
              "      <td>263.333333</td>\n",
              "      <td>217.9</td>\n",
              "    </tr>\n",
              "    <tr>\n",
              "      <th>OHIO</th>\n",
              "      <td>282.25</td>\n",
              "      <td>239.454545</td>\n",
              "      <td>267.666667</td>\n",
              "      <td>223.3</td>\n",
              "      <td>276.166667</td>\n",
              "      <td>234.363636</td>\n",
              "      <td>263.333333</td>\n",
              "      <td>217.9</td>\n",
              "    </tr>\n",
              "    <tr>\n",
              "      <th>OHIO</th>\n",
              "      <td>282.25</td>\n",
              "      <td>239.454545</td>\n",
              "      <td>267.666667</td>\n",
              "      <td>223.3</td>\n",
              "      <td>276.166667</td>\n",
              "      <td>234.363636</td>\n",
              "      <td>263.333333</td>\n",
              "      <td>217.9</td>\n",
              "    </tr>\n",
              "    <tr>\n",
              "      <th>OHIO</th>\n",
              "      <td>282.25</td>\n",
              "      <td>239.454545</td>\n",
              "      <td>267.666667</td>\n",
              "      <td>223.3</td>\n",
              "      <td>276.166667</td>\n",
              "      <td>234.363636</td>\n",
              "      <td>263.333333</td>\n",
              "      <td>217.9</td>\n",
              "    </tr>\n",
              "    <tr>\n",
              "      <th>OHIO</th>\n",
              "      <td>282.25</td>\n",
              "      <td>239.454545</td>\n",
              "      <td>267.666667</td>\n",
              "      <td>223.3</td>\n",
              "      <td>276.166667</td>\n",
              "      <td>234.363636</td>\n",
              "      <td>263.333333</td>\n",
              "      <td>217.9</td>\n",
              "    </tr>\n",
              "    <tr>\n",
              "      <th>OHIO</th>\n",
              "      <td>282.25</td>\n",
              "      <td>239.454545</td>\n",
              "      <td>267.666667</td>\n",
              "      <td>223.3</td>\n",
              "      <td>276.166667</td>\n",
              "      <td>234.363636</td>\n",
              "      <td>263.333333</td>\n",
              "      <td>217.9</td>\n",
              "    </tr>\n",
              "    <tr>\n",
              "      <th>OHIO</th>\n",
              "      <td>282.25</td>\n",
              "      <td>239.454545</td>\n",
              "      <td>267.666667</td>\n",
              "      <td>223.3</td>\n",
              "      <td>276.166667</td>\n",
              "      <td>234.363636</td>\n",
              "      <td>263.333333</td>\n",
              "      <td>217.9</td>\n",
              "    </tr>\n",
              "    <tr>\n",
              "      <th>OHIO</th>\n",
              "      <td>282.25</td>\n",
              "      <td>239.454545</td>\n",
              "      <td>267.666667</td>\n",
              "      <td>223.3</td>\n",
              "      <td>276.166667</td>\n",
              "      <td>234.363636</td>\n",
              "      <td>263.333333</td>\n",
              "      <td>217.9</td>\n",
              "    </tr>\n",
              "    <tr>\n",
              "      <th>OHIO</th>\n",
              "      <td>282.25</td>\n",
              "      <td>239.454545</td>\n",
              "      <td>267.666667</td>\n",
              "      <td>223.3</td>\n",
              "      <td>276.166667</td>\n",
              "      <td>234.363636</td>\n",
              "      <td>263.333333</td>\n",
              "      <td>217.9</td>\n",
              "    </tr>\n",
              "    <tr>\n",
              "      <th>OHIO</th>\n",
              "      <td>282.25</td>\n",
              "      <td>239.454545</td>\n",
              "      <td>267.666667</td>\n",
              "      <td>223.3</td>\n",
              "      <td>276.166667</td>\n",
              "      <td>234.363636</td>\n",
              "      <td>263.333333</td>\n",
              "      <td>217.9</td>\n",
              "    </tr>\n",
              "    <tr>\n",
              "      <th>OHIO</th>\n",
              "      <td>282.25</td>\n",
              "      <td>239.454545</td>\n",
              "      <td>267.666667</td>\n",
              "      <td>223.3</td>\n",
              "      <td>276.166667</td>\n",
              "      <td>234.363636</td>\n",
              "      <td>263.333333</td>\n",
              "      <td>217.9</td>\n",
              "    </tr>\n",
              "    <tr>\n",
              "      <th>OHIO</th>\n",
              "      <td>282.25</td>\n",
              "      <td>239.454545</td>\n",
              "      <td>267.666667</td>\n",
              "      <td>223.3</td>\n",
              "      <td>276.166667</td>\n",
              "      <td>234.363636</td>\n",
              "      <td>263.333333</td>\n",
              "      <td>217.9</td>\n",
              "    </tr>\n",
              "    <tr>\n",
              "      <th>MICHIGAN</th>\n",
              "      <td>282.25</td>\n",
              "      <td>239.454545</td>\n",
              "      <td>267.666667</td>\n",
              "      <td>223.3</td>\n",
              "      <td>276.166667</td>\n",
              "      <td>234.363636</td>\n",
              "      <td>263.333333</td>\n",
              "      <td>217.9</td>\n",
              "    </tr>\n",
              "    <tr>\n",
              "      <th>MICHIGAN</th>\n",
              "      <td>282.25</td>\n",
              "      <td>239.454545</td>\n",
              "      <td>267.666667</td>\n",
              "      <td>223.3</td>\n",
              "      <td>276.166667</td>\n",
              "      <td>234.363636</td>\n",
              "      <td>263.333333</td>\n",
              "      <td>217.9</td>\n",
              "    </tr>\n",
              "    <tr>\n",
              "      <th>MICHIGAN</th>\n",
              "      <td>282.25</td>\n",
              "      <td>239.454545</td>\n",
              "      <td>267.666667</td>\n",
              "      <td>223.3</td>\n",
              "      <td>276.166667</td>\n",
              "      <td>234.363636</td>\n",
              "      <td>263.333333</td>\n",
              "      <td>217.9</td>\n",
              "    </tr>\n",
              "    <tr>\n",
              "      <th>MICHIGAN</th>\n",
              "      <td>282.25</td>\n",
              "      <td>239.454545</td>\n",
              "      <td>267.666667</td>\n",
              "      <td>223.3</td>\n",
              "      <td>276.166667</td>\n",
              "      <td>234.363636</td>\n",
              "      <td>263.333333</td>\n",
              "      <td>217.9</td>\n",
              "    </tr>\n",
              "    <tr>\n",
              "      <th>MICHIGAN</th>\n",
              "      <td>282.25</td>\n",
              "      <td>239.454545</td>\n",
              "      <td>267.666667</td>\n",
              "      <td>223.3</td>\n",
              "      <td>276.166667</td>\n",
              "      <td>234.363636</td>\n",
              "      <td>263.333333</td>\n",
              "      <td>217.9</td>\n",
              "    </tr>\n",
              "    <tr>\n",
              "      <th>MICHIGAN</th>\n",
              "      <td>282.25</td>\n",
              "      <td>239.454545</td>\n",
              "      <td>267.666667</td>\n",
              "      <td>223.3</td>\n",
              "      <td>276.166667</td>\n",
              "      <td>234.363636</td>\n",
              "      <td>263.333333</td>\n",
              "      <td>217.9</td>\n",
              "    </tr>\n",
              "    <tr>\n",
              "      <th>MICHIGAN</th>\n",
              "      <td>282.25</td>\n",
              "      <td>239.454545</td>\n",
              "      <td>267.666667</td>\n",
              "      <td>223.3</td>\n",
              "      <td>276.166667</td>\n",
              "      <td>234.363636</td>\n",
              "      <td>263.333333</td>\n",
              "      <td>217.9</td>\n",
              "    </tr>\n",
              "    <tr>\n",
              "      <th>MICHIGAN</th>\n",
              "      <td>282.25</td>\n",
              "      <td>239.454545</td>\n",
              "      <td>267.666667</td>\n",
              "      <td>223.3</td>\n",
              "      <td>276.166667</td>\n",
              "      <td>234.363636</td>\n",
              "      <td>263.333333</td>\n",
              "      <td>217.9</td>\n",
              "    </tr>\n",
              "    <tr>\n",
              "      <th>MICHIGAN</th>\n",
              "      <td>282.25</td>\n",
              "      <td>239.454545</td>\n",
              "      <td>267.666667</td>\n",
              "      <td>223.3</td>\n",
              "      <td>276.166667</td>\n",
              "      <td>234.363636</td>\n",
              "      <td>263.333333</td>\n",
              "      <td>217.9</td>\n",
              "    </tr>\n",
              "    <tr>\n",
              "      <th>MICHIGAN</th>\n",
              "      <td>282.25</td>\n",
              "      <td>239.454545</td>\n",
              "      <td>267.666667</td>\n",
              "      <td>223.3</td>\n",
              "      <td>276.166667</td>\n",
              "      <td>234.363636</td>\n",
              "      <td>263.333333</td>\n",
              "      <td>217.9</td>\n",
              "    </tr>\n",
              "    <tr>\n",
              "      <th>MICHIGAN</th>\n",
              "      <td>282.25</td>\n",
              "      <td>239.454545</td>\n",
              "      <td>267.666667</td>\n",
              "      <td>223.3</td>\n",
              "      <td>276.166667</td>\n",
              "      <td>234.363636</td>\n",
              "      <td>263.333333</td>\n",
              "      <td>217.9</td>\n",
              "    </tr>\n",
              "    <tr>\n",
              "      <th>MICHIGAN</th>\n",
              "      <td>282.25</td>\n",
              "      <td>239.454545</td>\n",
              "      <td>267.666667</td>\n",
              "      <td>223.3</td>\n",
              "      <td>276.166667</td>\n",
              "      <td>234.363636</td>\n",
              "      <td>263.333333</td>\n",
              "      <td>217.9</td>\n",
              "    </tr>\n",
              "  </tbody>\n",
              "</table>\n",
              "</div>\n",
              "      <button class=\"colab-df-convert\" onclick=\"convertToInteractive('df-3eb7f9e9-91db-40cc-854e-d4b7e542cc90')\"\n",
              "              title=\"Convert this dataframe to an interactive table.\"\n",
              "              style=\"display:none;\">\n",
              "        \n",
              "  <svg xmlns=\"http://www.w3.org/2000/svg\" height=\"24px\"viewBox=\"0 0 24 24\"\n",
              "       width=\"24px\">\n",
              "    <path d=\"M0 0h24v24H0V0z\" fill=\"none\"/>\n",
              "    <path d=\"M18.56 5.44l.94 2.06.94-2.06 2.06-.94-2.06-.94-.94-2.06-.94 2.06-2.06.94zm-11 1L8.5 8.5l.94-2.06 2.06-.94-2.06-.94L8.5 2.5l-.94 2.06-2.06.94zm10 10l.94 2.06.94-2.06 2.06-.94-2.06-.94-.94-2.06-.94 2.06-2.06.94z\"/><path d=\"M17.41 7.96l-1.37-1.37c-.4-.4-.92-.59-1.43-.59-.52 0-1.04.2-1.43.59L10.3 9.45l-7.72 7.72c-.78.78-.78 2.05 0 2.83L4 21.41c.39.39.9.59 1.41.59.51 0 1.02-.2 1.41-.59l7.78-7.78 2.81-2.81c.8-.78.8-2.07 0-2.86zM5.41 20L4 18.59l7.72-7.72 1.47 1.35L5.41 20z\"/>\n",
              "  </svg>\n",
              "      </button>\n",
              "      \n",
              "  <style>\n",
              "    .colab-df-container {\n",
              "      display:flex;\n",
              "      flex-wrap:wrap;\n",
              "      gap: 12px;\n",
              "    }\n",
              "\n",
              "    .colab-df-convert {\n",
              "      background-color: #E8F0FE;\n",
              "      border: none;\n",
              "      border-radius: 50%;\n",
              "      cursor: pointer;\n",
              "      display: none;\n",
              "      fill: #1967D2;\n",
              "      height: 32px;\n",
              "      padding: 0 0 0 0;\n",
              "      width: 32px;\n",
              "    }\n",
              "\n",
              "    .colab-df-convert:hover {\n",
              "      background-color: #E2EBFA;\n",
              "      box-shadow: 0px 1px 2px rgba(60, 64, 67, 0.3), 0px 1px 3px 1px rgba(60, 64, 67, 0.15);\n",
              "      fill: #174EA6;\n",
              "    }\n",
              "\n",
              "    [theme=dark] .colab-df-convert {\n",
              "      background-color: #3B4455;\n",
              "      fill: #D2E3FC;\n",
              "    }\n",
              "\n",
              "    [theme=dark] .colab-df-convert:hover {\n",
              "      background-color: #434B5C;\n",
              "      box-shadow: 0px 1px 3px 1px rgba(0, 0, 0, 0.15);\n",
              "      filter: drop-shadow(0px 1px 2px rgba(0, 0, 0, 0.3));\n",
              "      fill: #FFFFFF;\n",
              "    }\n",
              "  </style>\n",
              "\n",
              "      <script>\n",
              "        const buttonEl =\n",
              "          document.querySelector('#df-3eb7f9e9-91db-40cc-854e-d4b7e542cc90 button.colab-df-convert');\n",
              "        buttonEl.style.display =\n",
              "          google.colab.kernel.accessAllowed ? 'block' : 'none';\n",
              "\n",
              "        async function convertToInteractive(key) {\n",
              "          const element = document.querySelector('#df-3eb7f9e9-91db-40cc-854e-d4b7e542cc90');\n",
              "          const dataTable =\n",
              "            await google.colab.kernel.invokeFunction('convertToInteractive',\n",
              "                                                     [key], {});\n",
              "          if (!dataTable) return;\n",
              "\n",
              "          const docLinkHtml = 'Like what you see? Visit the ' +\n",
              "            '<a target=\"_blank\" href=https://colab.research.google.com/notebooks/data_table.ipynb>data table notebook</a>'\n",
              "            + ' to learn more about interactive tables.';\n",
              "          element.innerHTML = '';\n",
              "          dataTable['output_type'] = 'display_data';\n",
              "          await google.colab.output.renderOutput(dataTable, element);\n",
              "          const docLink = document.createElement('div');\n",
              "          docLink.innerHTML = docLinkHtml;\n",
              "          element.appendChild(docLink);\n",
              "        }\n",
              "      </script>\n",
              "    </div>\n",
              "  </div>\n",
              "  "
            ]
          },
          "metadata": {},
          "execution_count": 53
        }
      ],
      "source": [
        "# set state name to the index column\n",
        "df_ = df.set_index('STATE')\n",
        "df_.head()\n",
        "\n",
        "# get average scores for each outcome for each state\n",
        "\n",
        "df[\"avg_ohio_m8\"] = df_.loc[\"OHIO\"][\"AVG_MATH_8_SCORE\"].mean()\n",
        "df[\"avg_ohio_m4\"] = df_.loc[\"OHIO\"][\"AVG_MATH_4_SCORE\"].mean()\n",
        "df[\"avg_ohio_r8\"] = df_.loc[\"OHIO\"][\"AVG_READING_8_SCORE\"].mean()\n",
        "df[\"avg_ohio_r4\"] = df_.loc[\"OHIO\"][\"AVG_READING_4_SCORE\"].mean()\n",
        "\n",
        "df[\"avg_michigan_m8\"] = df_.loc[\"MICHIGAN\"][\"AVG_MATH_8_SCORE\"].mean()\n",
        "df[\"avg_michigan_m4\"] = df_.loc[\"MICHIGAN\"][\"AVG_MATH_4_SCORE\"].mean()\n",
        "df[\"avg_michigan_r8\"] = df_.loc[\"MICHIGAN\"][\"AVG_READING_8_SCORE\"].mean()\n",
        "df[\"avg_michigan_r4\"] = df_.loc[\"MICHIGAN\"][\"AVG_READING_4_SCORE\"].mean()\n",
        "\n",
        "df_.loc[[\"OHIO\", \"MICHIGAN\"]][[\"avg_ohio_m8\", \"avg_ohio_m4\", \"avg_ohio_r8\", \"avg_ohio_r4\", \"avg_michigan_m8\", \"avg_michigan_m4\", \"avg_michigan_r8\", \"avg_michigan_r4\"]]\n",
        "\n",
        "# this is a very tedious and no doubt inefficient way to do it.....but by looking at the table generated\n",
        "# below, Ohio had higher average outcomes than Michigan"
      ]
    },
    {
      "cell_type": "markdown",
      "metadata": {
        "id": "UQmyv7liWvHQ"
      },
      "source": [
        "Find the average for your outcome score across all states in 2019"
      ]
    },
    {
      "cell_type": "code",
      "execution_count": 55,
      "metadata": {
        "id": "3H-uZ8GbWvHQ",
        "colab": {
          "base_uri": "https://localhost:8080/"
        },
        "outputId": "050d4fcb-67c9-4357-fbeb-42e7deb9c781"
      },
      "outputs": [
        {
          "output_type": "execute_result",
          "data": {
            "text/plain": [
              "STATE\n",
              "ALABAMA                 264.166667\n",
              "ALASKA                  280.000000\n",
              "ARIZONA                 274.666667\n",
              "ARKANSAS                269.750000\n",
              "CALIFORNIA              269.166667\n",
              "COLORADO                283.181818\n",
              "CONNECTICUT             282.250000\n",
              "DELAWARE                277.181818\n",
              "DISTRICT_OF_COLUMBIA    251.166667\n",
              "DODEA                   287.200000\n",
              "FLORIDA                 273.454545\n",
              "GEORGIA                 272.833333\n",
              "HAWAII                  269.583333\n",
              "IDAHO                   281.833333\n",
              "ILLINOIS                278.909091\n",
              "INDIANA                 282.250000\n",
              "IOWA                    283.818182\n",
              "KANSAS                  286.100000\n",
              "KENTUCKY                274.333333\n",
              "LOUISIANA               265.500000\n",
              "MAINE                   284.000000\n",
              "MARYLAND                278.916667\n",
              "MASSACHUSETTS           292.363636\n",
              "MICHIGAN                276.166667\n",
              "MINNESOTA               290.000000\n",
              "MISSISSIPPI             264.454545\n",
              "MISSOURI                279.272727\n",
              "MONTANA                 286.818182\n",
              "NATIONAL                277.769231\n",
              "NEBRASKA                282.916667\n",
              "NEVADA                  272.800000\n",
              "NEW_HAMPSHIRE           287.636364\n",
              "NEW_JERSEY              286.909091\n",
              "NEW_MEXICO              266.250000\n",
              "NEW_YORK                277.083333\n",
              "NORTH_CAROLINA          277.833333\n",
              "NORTH_DAKOTA            287.500000\n",
              "OHIO                    282.250000\n",
              "OKLAHOMA                273.000000\n",
              "OREGON                  281.363636\n",
              "PENNSYLVANIA            282.000000\n",
              "RHODE_ISLAND            274.416667\n",
              "SOUTH_CAROLINA          275.818182\n",
              "SOUTH_DAKOTA            287.444444\n",
              "TENNESSEE               272.545455\n",
              "TEXAS                   279.250000\n",
              "UTAH                    281.636364\n",
              "VERMONT                 289.200000\n",
              "VIRGINIA                282.416667\n",
              "WASHINGTON              286.666667\n",
              "WEST_VIRGINIA           268.666667\n",
              "WISCONSIN               285.363636\n",
              "WYOMING                 283.333333\n",
              "Name: AVG_MATH_8_SCORE, dtype: float64"
            ]
          },
          "metadata": {},
          "execution_count": 55
        }
      ],
      "source": [
        "# group by states\n",
        "states = df.groupby(\"STATE\")\n",
        "\n",
        "# get average Grade 8 math score for each state\n",
        "states[\"AVG_MATH_8_SCORE\"].mean()"
      ]
    },
    {
      "cell_type": "markdown",
      "metadata": {
        "id": "MQutIC7_WvHQ"
      },
      "source": [
        "Find the maximum outcome score for every state. \n",
        "\n",
        "Refer to the `Grouping and Aggregating` section in Tutorial 0 if you are stuck."
      ]
    },
    {
      "cell_type": "code",
      "execution_count": 56,
      "metadata": {
        "id": "S7OIBzKCWvHQ",
        "colab": {
          "base_uri": "https://localhost:8080/"
        },
        "outputId": "4c68a14e-0fa9-48e5-c099-672fc43cc2b3"
      },
      "outputs": [
        {
          "output_type": "execute_result",
          "data": {
            "text/plain": [
              "STATE\n",
              "ALABAMA                 269.0\n",
              "ALASKA                  283.0\n",
              "ARIZONA                 283.0\n",
              "ARKANSAS                279.0\n",
              "CALIFORNIA              277.0\n",
              "COLORADO                292.0\n",
              "CONNECTICUT             289.0\n",
              "DELAWARE                284.0\n",
              "DISTRICT_OF_COLUMBIA    269.0\n",
              "DODEA                   293.0\n",
              "FLORIDA                 281.0\n",
              "GEORGIA                 281.0\n",
              "HAWAII                  281.0\n",
              "IDAHO                   287.0\n",
              "ILLINOIS                285.0\n",
              "INDIANA                 288.0\n",
              "IOWA                    286.0\n",
              "KANSAS                  290.0\n",
              "KENTUCKY                282.0\n",
              "LOUISIANA               273.0\n",
              "MAINE                   289.0\n",
              "MARYLAND                288.0\n",
              "MASSACHUSETTS           301.0\n",
              "MICHIGAN                280.0\n",
              "MINNESOTA               295.0\n",
              "MISSISSIPPI             274.0\n",
              "MISSOURI                286.0\n",
              "MONTANA                 293.0\n",
              "NATIONAL                285.0\n",
              "NEBRASKA                288.0\n",
              "NEVADA                  278.0\n",
              "NEW_HAMPSHIRE           296.0\n",
              "NEW_JERSEY              296.0\n",
              "NEW_MEXICO              274.0\n",
              "NEW_YORK                283.0\n",
              "NORTH_CAROLINA          286.0\n",
              "NORTH_DAKOTA            293.0\n",
              "OHIO                    290.0\n",
              "OKLAHOMA                279.0\n",
              "OREGON                  285.0\n",
              "PENNSYLVANIA            290.0\n",
              "RHODE_ISLAND            284.0\n",
              "SOUTH_CAROLINA          282.0\n",
              "SOUTH_DAKOTA            291.0\n",
              "TENNESSEE               280.0\n",
              "TEXAS                   290.0\n",
              "UTAH                    287.0\n",
              "VERMONT                 295.0\n",
              "VIRGINIA                290.0\n",
              "WASHINGTON              290.0\n",
              "WEST_VIRGINIA           274.0\n",
              "WISCONSIN               289.0\n",
              "WYOMING                 289.0\n",
              "Name: AVG_MATH_8_SCORE, dtype: float64"
            ]
          },
          "metadata": {},
          "execution_count": 56
        }
      ],
      "source": [
        "# get max outcome score in each state\n",
        "states[\"AVG_MATH_8_SCORE\"].max()"
      ]
    },
    {
      "cell_type": "markdown",
      "metadata": {
        "id": "XtqxjKtkWvHQ"
      },
      "source": [
        "<h2> Feature Engineering </h2>\n",
        "\n",
        "After exploring the data, you can choose to modify features that you would use to predict the performance of the students on your chosen response variable. \n",
        "\n",
        "You can also create your own features. For example, perhaps you figured that maybe a state's expenditure per student may affect their overall academic performance so you create a expenditure_per_student feature.\n",
        "\n",
        "Use this space to modify or create features."
      ]
    },
    {
      "cell_type": "code",
      "execution_count": 58,
      "metadata": {
        "id": "AprUKWuyWvHR"
      },
      "outputs": [],
      "source": [
        "# was going to do this all along! get the average $$ of expenditure spent per student\n",
        "df['SUPPORT_SERVICES_EXPENDITURE_PER_STUDENT'] = df['SUPPORT_SERVICES_EXPENDITURE'] / df['ENROLL_ALL']"
      ]
    },
    {
      "cell_type": "markdown",
      "metadata": {
        "id": "3H7oQT29WvHR"
      },
      "source": [
        "Feature engineering justification: **My reasoning was just that as stated in the instructions-- I thought that the success of a student is dependent on the resources they have, and the best way to measure that is to see the expenditure that is spent per student. No matter the subject, any student can learn it and how to succeed if they're given the right materials. It is not a matter of intelligence. It is a matter of access and wealth.**"
      ]
    },
    {
      "cell_type": "markdown",
      "metadata": {
        "id": "mKGocS97WvHR"
      },
      "source": [
        "<h2>Visualization</h2>\n",
        "\n",
        "Investigate the relationship between your chosen response variable and at least two predictors using visualizations. Write down your observations.\n",
        "\n",
        "**Visualization 1**"
      ]
    },
    {
      "cell_type": "code",
      "execution_count": 61,
      "metadata": {
        "id": "5WoIn8TtWvHR",
        "colab": {
          "base_uri": "https://localhost:8080/",
          "height": 298
        },
        "outputId": "75f614f6-c572-4680-b105-be1be9b68b95"
      },
      "outputs": [
        {
          "output_type": "execute_result",
          "data": {
            "text/plain": [
              "<matplotlib.axes._subplots.AxesSubplot at 0x7f2598c28a50>"
            ]
          },
          "metadata": {},
          "execution_count": 61
        },
        {
          "output_type": "display_data",
          "data": {
            "text/plain": [
              "<Figure size 432x288 with 1 Axes>"
            ],
            "image/png": "[encoded data removed]"
          },
          "metadata": {
            "needs_background": "light"
          }
        }
      ],
      "source": [
        "# visualization of the distribution of Grade 8 Math Scores\n",
        "df.AVG_MATH_8_SCORE.plot.hist(title=\"Distribution of 8th Grade Math Scores\", edgecolor=\"black\")"
      ]
    },
    {
      "cell_type": "markdown",
      "metadata": {
        "id": "A4rBBOAyWvHR"
      },
      "source": [
        "**This histogram shows the distribution of Grade 8 Math scores. The unimodoal graph seems to be skewed to the left with a peak at a score of about 280 to 285, with a frequency of almost 200.**"
      ]
    },
    {
      "cell_type": "markdown",
      "metadata": {
        "id": "BQL-B1CbWvHR"
      },
      "source": [
        "**Visualization 2**"
      ]
    },
    {
      "cell_type": "code",
      "execution_count": 64,
      "metadata": {
        "id": "uQVnS874WvHR",
        "colab": {
          "base_uri": "https://localhost:8080/",
          "height": 296
        },
        "outputId": "aa71edb8-364b-48f2-9876-0ad1b4121e97"
      },
      "outputs": [
        {
          "output_type": "execute_result",
          "data": {
            "text/plain": [
              "Text(0, 0.5, '8th Grade Average Math Score')"
            ]
          },
          "metadata": {},
          "execution_count": 64
        },
        {
          "output_type": "display_data",
          "data": {
            "text/plain": [
              "<Figure size 432x288 with 1 Axes>"
            ],
            "image/png": "[encoded data removed]"
          },
          "metadata": {
            "needs_background": "light"
          }
        }
      ],
      "source": [
        "# visualization of support services expenditure per student and average 8th grade math score\n",
        "df.plot.scatter(x='SUPPORT_SERVICES_EXPENDITURE_PER_STUDENT', y='AVG_MATH_8_SCORE', alpha=0.6)\n",
        "plt.xlabel('Support Services Expenditure per Student ($)')\n",
        "plt.ylabel('8th Grade Average Math Score')"
      ]
    },
    {
      "cell_type": "markdown",
      "metadata": {
        "id": "XlvYBIO1WvHS"
      },
      "source": [
        "**This visualization is a scatterplot that shows the correlation between the support services expenditure per student, in dollars, and the average 8th grade math score. There does not appear to be a strong correlation between the two-- potentially a positive correlation near the lower end of the support services per expenditure.**"
      ]
    },
    {
      "cell_type": "markdown",
      "source": [
        "**Visualization 3**"
      ],
      "metadata": {
        "id": "D_x-rjYC0eKq"
      }
    },
    {
      "cell_type": "code",
      "source": [
        "df.plot.scatter(x='AVG_MATH_4_SCORE', y='AVG_MATH_8_SCORE', alpha=0.6)\n",
        "plt.xlabel('4th Grade Average Math Score')\n",
        "plt.ylabel('8th Grade Average Math Score')"
      ],
      "metadata": {
        "colab": {
          "base_uri": "https://localhost:8080/",
          "height": 296
        },
        "id": "6Dl6se6S0dkp",
        "outputId": "f84c8c70-c6eb-4882-b6f5-4432054b3022"
      },
      "execution_count": 77,
      "outputs": [
        {
          "output_type": "execute_result",
          "data": {
            "text/plain": [
              "Text(0, 0.5, '8th Grade Average Math Score')"
            ]
          },
          "metadata": {},
          "execution_count": 77
        },
        {
          "output_type": "display_data",
          "data": {
            "text/plain": [
              "<Figure size 432x288 with 1 Axes>"
            ],
            "image/png": "[encoded data removed]"
          },
          "metadata": {
            "needs_background": "light"
          }
        }
      ]
    },
    {
      "cell_type": "markdown",
      "source": [
        "This scatterplot depicts the average math score in 4th grade against the average score in 8th grade for that particular student. There seemes to be a strong, postitive correlation with few outliers between 4th and 8th grade math scores."
      ],
      "metadata": {
        "id": "yVNGGRNd1Ikh"
      }
    },
    {
      "cell_type": "markdown",
      "metadata": {
        "id": "jJRHWTWfWvHS"
      },
      "source": [
        "<h2> Data Creation </h2>\n",
        "\n",
        "_Use this space to create train/test data_"
      ]
    },
    {
      "cell_type": "code",
      "execution_count": 65,
      "metadata": {
        "id": "Nixn6NkPWvHS"
      },
      "outputs": [],
      "source": [
        "from sklearn.model_selection import train_test_split"
      ]
    },
    {
      "cell_type": "code",
      "execution_count": 79,
      "metadata": {
        "id": "pUug4oapWvHS"
      },
      "outputs": [],
      "source": [
        "# X = AVG_MATH_4_SCORE, SUPPORT_SERVICES_EXPENDITURE_PER_STUDENT, AVG_READING_8_SCORE\n",
        "# y = AVG_MATH_8_SCORE\n",
        "\n",
        "X = df[['AVG_MATH_4_SCORE','SUPPORT_SERVICES_EXPENDITURE_PER_STUDENT','AVG_READING_8_SCORE']].dropna()\n",
        "y = df.loc[X.index]['AVG_MATH_8_SCORE']\n",
        "\n",
        "# make sure there's no NaN in avg. grade 8 math score\n",
        "y.fillna(y.mean(), inplace=True)\n",
        "\n"
      ]
    },
    {
      "cell_type": "code",
      "execution_count": 81,
      "metadata": {
        "id": "K-lIPnlZWvHS"
      },
      "outputs": [],
      "source": [
        "# X_train, X_test, y_train, y_test = train_test_split(\n",
        "#      X, y, test_size=, random_state=42)\n",
        "\n",
        "# training and testing the data using a 70 train / 30 test split due to size of data set\n",
        "\n",
        "X_train, X_test, y_train, y_test = train_test_split(X, y, test_size=.3, random_state=0)\n"
      ]
    },
    {
      "cell_type": "markdown",
      "metadata": {
        "id": "cESaQPUnWvHT"
      },
      "source": [
        "<h2> Prediction </h2>"
      ]
    },
    {
      "cell_type": "markdown",
      "metadata": {
        "id": "J2uxmOAPWvHT"
      },
      "source": [
        "ML Models [Resource](https://medium.com/@vijaya.beeravalli/comparison-of-machine-learning-classification-models-for-credit-card-default-data-c3cf805c9a5a)"
      ]
    },
    {
      "cell_type": "code",
      "execution_count": 82,
      "metadata": {
        "id": "iwF9uZMCWvHT"
      },
      "outputs": [],
      "source": [
        "from sklearn.linear_model import LinearRegression"
      ]
    },
    {
      "cell_type": "code",
      "execution_count": 83,
      "metadata": {
        "id": "IAtlah4IWvHT"
      },
      "outputs": [],
      "source": [
        "# create your model here\n",
        "model = LinearRegression()"
      ]
    },
    {
      "cell_type": "code",
      "execution_count": 84,
      "metadata": {
        "id": "nFVjseV_WvHT",
        "colab": {
          "base_uri": "https://localhost:8080/"
        },
        "outputId": "88dc57ad-9544-4555-a9b6-bf4da990fc56"
      },
      "outputs": [
        {
          "output_type": "execute_result",
          "data": {
            "text/plain": [
              "LinearRegression()"
            ]
          },
          "metadata": {},
          "execution_count": 84
        }
      ],
      "source": [
        "model.fit(X_train, y_train)"
      ]
    },
    {
      "cell_type": "code",
      "execution_count": 90,
      "metadata": {
        "id": "J8x-8zZVWvHT",
        "colab": {
          "base_uri": "https://localhost:8080/"
        },
        "outputId": "f16cfb9f-9314-480b-c4aa-f0565eea77b9"
      },
      "outputs": [
        {
          "output_type": "stream",
          "name": "stdout",
          "text": [
            "-37.59432336931701\n",
            "[0.73972388 0.11146982 0.53635085]\n"
          ]
        },
        {
          "output_type": "execute_result",
          "data": {
            "text/plain": [
              "-0.19274505851867132"
            ]
          },
          "metadata": {},
          "execution_count": 90
        }
      ],
      "source": [
        "y_pred = model.predict(X_test)\n",
        "\n",
        "# seeing the coefficients from the model\n",
        "print(model.intercept_)\n",
        "print(model.coef_)\n",
        "\n",
        "# R^2 score\n",
        "model.score(X_test, y_test)\n",
        "\n",
        "# mean error\n",
        "np.mean(model.predict(X_test)-y_test)\n",
        "\n",
        "\n",
        "\n"
      ]
    },
    {
      "cell_type": "markdown",
      "metadata": {
        "id": "-c24xLzWWvHT"
      },
      "source": [
        "## Evaluation"
      ]
    },
    {
      "cell_type": "markdown",
      "metadata": {
        "id": "XDD87mzlWvHU"
      },
      "source": [
        "Choose some metrics to evaluate the performance of your model, some of them are mentioned in the tutorial."
      ]
    },
    {
      "cell_type": "markdown",
      "source": [
        "Some metrics to evaluate the performance will be the R^2 value and the mean error of the data. This way, I can try and gauge how accuarte the model is."
      ],
      "metadata": {
        "id": "DzrhL5DP3Zur"
      }
    },
    {
      "cell_type": "code",
      "execution_count": null,
      "metadata": {
        "id": "eiqqm7G8WvHU"
      },
      "outputs": [],
      "source": []
    },
    {
      "cell_type": "markdown",
      "metadata": {
        "id": "ZrKwaXXtWvHU"
      },
      "source": [
        "We have copied over the graphs that visualize the model's performance on the training and testing set. \n",
        "\n",
        "Change `col_name` and modify the call to `plt.ylabel()` to isolate how a single predictor affects the model."
      ]
    },
    {
      "cell_type": "code",
      "execution_count": 92,
      "metadata": {
        "id": "I4uQ71LUWvHU",
        "colab": {
          "base_uri": "https://localhost:8080/",
          "height": 422
        },
        "outputId": "0eab3123-adc4-45c7-d050-1d4c46ecd03b"
      },
      "outputs": [
        {
          "output_type": "execute_result",
          "data": {
            "text/plain": [
              "Text(0.5, 1.0, 'Model Behavior On Training Set')"
            ]
          },
          "metadata": {},
          "execution_count": 92
        },
        {
          "output_type": "display_data",
          "data": {
            "text/plain": [
              "<Figure size 864x432 with 1 Axes>"
            ],
            "image/png": "[encoded data removed]"
          },
          "metadata": {
            "needs_background": "light"
          }
        }
      ],
      "source": [
        "col_name = 'AVG_MATH_4_SCORE'\n",
        "\n",
        "f = plt.figure(figsize=(12,6))\n",
        "plt.scatter(X_train[col_name], y_train, color = \"red\")\n",
        "plt.scatter(X_train[col_name], model.predict(X_train), color = \"green\")\n",
        "\n",
        "plt.legend(['True Training','Predicted Training'])\n",
        "plt.xlabel(col_name)\n",
        "plt.ylabel('Average Grade 4 Math Score')\n",
        "plt.title(\"Model Behavior On Training Set\")"
      ]
    },
    {
      "cell_type": "code",
      "execution_count": 95,
      "metadata": {
        "id": "Ur7-UcQzWvHU",
        "colab": {
          "base_uri": "https://localhost:8080/",
          "height": 422
        },
        "outputId": "0744c8a0-33ff-4d4a-9a1c-572c9af64fdd"
      },
      "outputs": [
        {
          "output_type": "execute_result",
          "data": {
            "text/plain": [
              "Text(0.5, 1.0, 'Model Behavior on Testing Set')"
            ]
          },
          "metadata": {},
          "execution_count": 95
        },
        {
          "output_type": "display_data",
          "data": {
            "text/plain": [
              "<Figure size 864x432 with 1 Axes>"
            ],
            "image/png": "[encoded data removed]"
          },
          "metadata": {
            "needs_background": "light"
          }
        }
      ],
      "source": [
        "col_name = \"SUPPORT_SERVICES_EXPENDITURE_PER_STUDENT\"\n",
        "\n",
        "f = plt.figure(figsize=(12,6))\n",
        "plt.scatter(X_test[col_name], y_test, color = \"blue\")\n",
        "plt.scatter(X_test[col_name], model.predict(X_test), color = \"black\")\n",
        "\n",
        "plt.legend(['True testing','Predicted testing'])\n",
        "plt.xlabel(col_name)\n",
        "plt.ylabel('Support Services Expenditure per Student')\n",
        "plt.title(\"Model Behavior on Testing Set\")"
      ]
    },
    {
      "cell_type": "code",
      "source": [
        "col_name = \"AVG_READING_8_SCORE\"\n",
        "\n",
        "f = plt.figure(figsize=(12,6))\n",
        "plt.scatter(X_test[col_name], y_test, color = \"blue\")\n",
        "plt.scatter(X_test[col_name], model.predict(X_test), color = \"black\")\n",
        "\n",
        "plt.legend(['True testing','Predicted testing'])\n",
        "plt.xlabel(col_name)\n",
        "plt.ylabel('Average 8th Grade Reading Score')\n",
        "plt.title(\"Model Behavior on Testing Set\")"
      ],
      "metadata": {
        "colab": {
          "base_uri": "https://localhost:8080/",
          "height": 422
        },
        "id": "upS0UMwG4GBP",
        "outputId": "2b232bd3-3732-4bc4-f090-e3391e6cd392"
      },
      "execution_count": 96,
      "outputs": [
        {
          "output_type": "execute_result",
          "data": {
            "text/plain": [
              "Text(0.5, 1.0, 'Model Behavior on Testing Set')"
            ]
          },
          "metadata": {},
          "execution_count": 96
        },
        {
          "output_type": "display_data",
          "data": {
            "text/plain": [
              "<Figure size 864x432 with 1 Axes>"
            ],
            "image/png": "[encoded data removed]"
          },
          "metadata": {
            "needs_background": "light"
          }
        }
      ]
    },
    {
      "cell_type": "markdown",
      "metadata": {
        "id": "trE_3AhHWvHU"
      },
      "source": [
        "<h2> Summary </h2>"
      ]
    },
    {
      "cell_type": "markdown",
      "metadata": {
        "id": "fodGogSqWvHV"
      },
      "source": [
        "**<WRITE A PARAGRAPH SUMMARIZING YOUR WORK, FINDINGS, AND THE PERFORMANCE OF YOUR MODEL\\>**\n",
        "\n",
        "My original hypothesis was that a large spending in support services expenditure would have had a correlation to a higher grade 8 math score, as, generally, greater access to resouces may increase student performance. I also was interested if there was a correlation with past math scores in grade 4 and concurrent scores in reading. The bulk of my work involved creating the visualizations, training the model, and trying to grasp the syntax of pandas and dataframes. I also took inspiration from the instructions in creating the support services expenditure per student, as an average value considering extraneous variables is often a better indicator than a total value. My findings were that there was a strong, positive correlation between grade 8 math scores and grade 8 reading & grade 4 math scores, respectively, and a weak correlation between grade 8 math scores and support services expenditure per student. My models performed fairly well according to these findings-- the grade 8 reading and grade 4 math models were quite accurate, and the support services expenditure per student was not really accurate at all."
      ]
    },
    {
      "cell_type": "code",
      "source": [],
      "metadata": {
        "id": "lOpDaZPI9XcU"
      },
      "execution_count": null,
      "outputs": []
    }
  ],
  "metadata": {
    "kernelspec": {
      "display_name": "Python 3.9.0 64-bit",
      "language": "python",
      "name": "python3"
    },
    "language_info": {
      "codemirror_mode": {
        "name": "ipython",
        "version": 3
      },
      "file_extension": ".py",
      "mimetype": "text/x-python",
      "name": "python",
      "nbconvert_exporter": "python",
      "pygments_lexer": "ipython3",
      "version": "3.9.0"
    },
    "vscode": {
      "interpreter": {
        "hash": "6cf8df3ff69f85f626faf55c10df6fe2cb9d1236b4dc73844ee4dc01369c2c99"
      }
    },
    "colab": {
      "provenance": [],
      "collapsed_sections": []
    }
  },
  "nbformat": 4,
  "nbformat_minor": 0
}